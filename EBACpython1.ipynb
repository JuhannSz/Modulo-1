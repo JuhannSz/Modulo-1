{
  "nbformat": 4,
  "nbformat_minor": 0,
  "metadata": {
    "colab": {
      "provenance": []
    },
    "kernelspec": {
      "name": "python3",
      "display_name": "Python 3"
    },
    "language_info": {
      "name": "python"
    }
  },
  "cells": [
    {
      "cell_type": "code",
      "execution_count": 6,
      "metadata": {
        "id": "OwrAfCAXAmzC"
      },
      "outputs": [],
      "source": [
        "'''Calculadora:\n",
        "- Usuário irá iniciar o programa, talvez colocar uma saudação\n",
        "- usuário poderá selecionar que tipo de operação deseja fazer\n",
        "- usuário irá inserir os números que deseja realizar a operação\n",
        "- usuário irá receber a resposta da operação realizada\n",
        "- programa questionará se ele deseja realizar outra operação (aqui eu nãp consegui fazer, não entendi bem como tentar colocar uma estrutura de repetição, poderia me enviar como implementar?)\n",
        "- se sim mostrar de novo as opçõoes\n",
        "- se não encerrar com mensagemde despedida\n",
        "'''\n",
        "\n",
        "import math"
      ]
    },
    {
      "cell_type": "code",
      "source": [
        "#Inicialização\n",
        "\n",
        "calculadora = input('Olá gostaria de iniciar a calculadora? ')\n",
        "if calculadora == 'sim':\n",
        "  print('Vamos iniciar!')\n",
        "\n",
        "\n",
        "#informações\n",
        "  nome = input('Qual seu nome? ')\n",
        "  print(f'olá {nome}')\n",
        "  num1 = float(input('Digite o primeiro número: '))\n",
        "  num2 = float(input('Digite o segundo número: '))\n",
        "  soma = num1 + num2\n",
        "  subtração = num1 - num2\n",
        "  multiplicação = num1 * num2\n",
        "  divisão = num1 / num2\n",
        "  potência = num1 ** num2\n",
        "\n",
        "#Operações\n",
        "  operacao = input('Qual operação deseja: soma, subtração, multiplicação, divisão, potência? ')\n",
        "  if operacao == 'soma':\n",
        "    print(soma)\n",
        "  elif operacao == 'subtração':\n",
        "    print(subtração)\n",
        "  elif operacao == 'multiplicação':\n",
        "    print(multiplicação)\n",
        "  elif operacao == 'divisão':\n",
        "    print(divisão)\n",
        "  elif operacao == 'potência':\n",
        "    print(potência)\n",
        "  else:\n",
        "    print('Operação inválida')\n",
        "  nova_operacao = input('Deseja realizar outra operação? ')\n",
        "  num1 = float(input('Digite o primeiro número: '))\n",
        "  num2 = float(input('Digite o segundo número: '))\n",
        "  soma = num1 + num2\n",
        "  subtração = num1 - num2\n",
        "  multiplicação = num1 * num2\n",
        "  divisão = num1 / num2\n",
        "  potência = num1 ** num2\n",
        "# Repetição\n",
        "  while nova_operacao == 'sim':\n",
        "        operacao = input('Qual operação deseja: soma, subtração, multiplicação, divisão, potência? ')\n",
        "        if operacao == 'soma':\n",
        "          print(soma)\n",
        "        elif operacao == 'subtração':\n",
        "          print(subtração)\n",
        "        elif operacao == 'multiplicação':\n",
        "          print(multiplicação)\n",
        "        elif operacao == 'divisão':\n",
        "          print(divisão)\n",
        "        elif operacao == 'potência':\n",
        "          print(potência)\n",
        "        else:\n",
        "          print('Operação inválida')\n",
        "#Questionamento do while\n",
        "\n",
        "        if nova_operacao == 'não':\n",
        "          print('Até mais')\n",
        "          break\n",
        "\n",
        "\n",
        "#Fim do código\n",
        "\n",
        "else:\n",
        "  print('Até mais')\n",
        "  exit()\n",
        "\n",
        "\n",
        "\n",
        "\n",
        "\n",
        "\n",
        ""
      ],
      "metadata": {
        "id": "eXZbg1NKAzek"
      },
      "execution_count": null,
      "outputs": []
    },
    {
      "cell_type": "code",
      "source": [],
      "metadata": {
        "id": "paPaKiH_CuZ6"
      },
      "execution_count": null,
      "outputs": []
    }
  ]
}